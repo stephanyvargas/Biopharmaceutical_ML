{
 "cells": [
  {
   "cell_type": "markdown",
   "id": "54acbef5",
   "metadata": {},
   "source": [
    "# Create the design space to take data\n",
    "\n",
    "The paper uses a Latin hypercube to do a space filling design with conservative boundaries for 20 experiments."
   ]
  },
  {
   "cell_type": "code",
   "execution_count": 1,
   "id": "b54eca75",
   "metadata": {},
   "outputs": [],
   "source": [
    "# import all packages and set plots to be embedded inline\n",
    "import numpy as np\n",
    "import matplotlib.pyplot as plt\n",
    "#from scipy.optimize import minimize\n",
    "#from scipy.optimize import Bounds\n",
    "from pyDOE import lhs\n",
    "#from sklearn.preprocessing import MinMaxScaler\n",
    "from sklearn.pipeline import Pipeline\n",
    "\n",
    "%matplotlib inline"
   ]
  },
  {
   "cell_type": "code",
   "execution_count": 2,
   "id": "5f006322",
   "metadata": {},
   "outputs": [],
   "source": [
    "#Define Boundaries for each feature\n",
    "\n",
    "##Continuous features should be distributed between [0, upper_bound]\n",
    "NaCl_boundaries = [0,140]\n",
    "LArginine_boundaries = [0,150]\n",
    "LLysine_boundaries = [0,150]\n",
    "LProline_boundaries = [0,150]\n",
    "\n",
    "#Discrete features are [0, upper_bound]\n",
    "pH_boundaries = [5,5.5,6,6.5]\n",
    "Trehalose_boundaries = [0,8]\n",
    "Mannitol_boundaries = [0,4]\n",
    "Tween20_boundaries = [0,0.01]"
   ]
  },
  {
   "cell_type": "code",
   "execution_count": 3,
   "id": "b4b15672",
   "metadata": {},
   "outputs": [],
   "source": [
    "#Generate data for continuous features\n",
    "\n",
    "from numpy.random import uniform\n",
    "\n",
    "NaCl_vector = uniform(NaCl_boundaries[0], NaCl_boundaries[1], 10)\n",
    "LArginine_vector = uniform(LArginine_boundaries[0], LArginine_boundaries[1], 10)\n",
    "LLysine_vector = uniform(LLysine_boundaries[0], LLysine_boundaries[1], 10)\n",
    "LProline_vector = uniform(LProline_boundaries[0], LProline_boundaries[1], 10)"
   ]
  },
  {
   "cell_type": "markdown",
   "id": "2ec8e3b9",
   "metadata": {},
   "source": [
    "## Initial Design Space"
   ]
  },
  {
   "cell_type": "markdown",
   "id": "cefb6b2b",
   "metadata": {},
   "source": [
    "### Using  RandomizedSearchCV"
   ]
  },
  {
   "cell_type": "code",
   "execution_count": 9,
   "id": "1580aa81",
   "metadata": {},
   "outputs": [
    {
     "data": {
      "text/plain": [
       "{'NaCl': array([ 47.31772185,  73.61055802,   6.08459591,   3.95405791,\n",
       "         49.13478951,  57.04140297,  58.73188013, 114.49138458,\n",
       "        104.805946  , 126.800807  ]),\n",
       " 'PH': [5, 5.5, 6, 6.5],\n",
       " 'Trehalose': [0, 8],\n",
       " 'Mannitol': [0, 4],\n",
       " 'Tween20': [0, 0.01]}"
      ]
     },
     "execution_count": 9,
     "metadata": {},
     "output_type": "execute_result"
    }
   ],
   "source": [
    "#Construct the design space using GaussianProcesses\n",
    "\n",
    "from sklearn.gaussian_process import GaussianProcessRegressor\n",
    "from sklearn.model_selection import RandomizedSearchCV\n",
    "from sklearn.gaussian_process.kernels import Matern\n",
    "from scipy import stats\n",
    "\n",
    "# Instanciate model with matern Kernel\n",
    "model = GaussianProcessRegressor(kernel=Matern(length_scale=1.0, length_scale_bounds=(1e-05, 100000.0), nu=1.5),\n",
    "                                 random_state=0)\n",
    "\n",
    "# Hyperparameter Grid\n",
    "grid = {'NaCl': NaCl_vector, \n",
    "        #'L-Arginine' : LArginine_vector,\n",
    "        #'L-Lysine' : LLysine_vector, \n",
    "        #'L-Proline' : LProline_vector, \n",
    "        'PH' : pH_boundaries, \n",
    "        'Trehalose' : Trehalose_boundaries, \n",
    "        'Mannitol': Mannitol_boundaries, \n",
    "        'Tween20' : Tween20_boundaries }\n",
    "\n",
    "grid"
   ]
  },
  {
   "cell_type": "code",
   "execution_count": 10,
   "id": "184311e7",
   "metadata": {},
   "outputs": [
    {
     "data": {
      "text/plain": [
       "RandomizedSearchCV(estimator=GaussianProcessRegressor(kernel=Matern(length_scale=1, nu=1.5),\n",
       "                                                      random_state=0),\n",
       "                   n_iter=20,\n",
       "                   param_distributions={'Mannitol': [0, 4],\n",
       "                                        'NaCl': array([ 47.31772185,  73.61055802,   6.08459591,   3.95405791,\n",
       "        49.13478951,  57.04140297,  58.73188013, 114.49138458,\n",
       "       104.805946  , 126.800807  ]),\n",
       "                                        'PH': [5, 5.5, 6, 6.5],\n",
       "                                        'Trehalose': [0, 8],\n",
       "                                        'Tween20': [0, 0.01]})"
      ]
     },
     "execution_count": 10,
     "metadata": {},
     "output_type": "execute_result"
    }
   ],
   "source": [
    "# Instanciate Grid Search\n",
    "search = RandomizedSearchCV(model, grid, \n",
    "                            n_iter=20,  # number of draws\n",
    "                            #cv=1,\n",
    "                            #scoring='r2',\n",
    "                            #n_jobs=-1\n",
    "                           )\n",
    "search"
   ]
  },
  {
   "cell_type": "code",
   "execution_count": 11,
   "id": "e16da2ad",
   "metadata": {},
   "outputs": [
    {
     "data": {
      "text/plain": [
       "Index(['Round', 'Exp No.', 'pH', 'NaCl (mM)', 'Trehalose (w/v %)',\n",
       "       'Mannitol (w/v %)', 'Tween 20 (v/v%)', 'Tm', 'NP', 'NP_std'],\n",
       "      dtype='object')"
      ]
     },
     "execution_count": 11,
     "metadata": {},
     "output_type": "execute_result"
    }
   ],
   "source": [
    "import pandas as pd\n",
    "\n",
    "data = pd.read_excel('mp1c00469_si_002.xlsx')\n",
    "data.keys()#"
   ]
  },
  {
   "cell_type": "code",
   "execution_count": 12,
   "id": "d936cec6",
   "metadata": {},
   "outputs": [
    {
     "data": {
      "text/plain": [
       "pH                    5.000000\n",
       "NaCl (mM)            15.000000\n",
       "Trehalose (w/v %)     7.000000\n",
       "Mannitol (w/v %)      0.000000\n",
       "Tween 20 (v/v%)       0.010000\n",
       "Tm                   59.347822\n",
       "Name: 0, dtype: float64"
      ]
     },
     "execution_count": 12,
     "metadata": {},
     "output_type": "execute_result"
    }
   ],
   "source": [
    "ref_data = data[['pH', 'NaCl (mM)', 'Trehalose (w/v %)', 'Mannitol (w/v %)', 'Tween 20 (v/v%)', 'Tm']].iloc[0]\n",
    "ref_data"
   ]
  },
  {
   "cell_type": "markdown",
   "id": "ae6973d2",
   "metadata": {},
   "source": [
    "**Small detail...** Use of 'RandomizedSearchCV' should be done to create a grid of the tunable hyperparameters of the model to fit (i.e. theta, nu, etc from the Matern kernel), not to create a grid for the variables X..."
   ]
  },
  {
   "cell_type": "markdown",
   "id": "a04b31dc",
   "metadata": {},
   "source": [
    "### Using Randomized Designs"
   ]
  },
  {
   "cell_type": "code",
   "execution_count": 16,
   "id": "51e48dc5",
   "metadata": {},
   "outputs": [
    {
     "data": {
      "text/plain": [
       "array([[0.85176229, 0.76466907, 0.32725789, 0.38394626, 0.76355036],\n",
       "       [0.83517292, 0.94149338, 0.02721199, 0.7454621 , 0.63753012],\n",
       "       [0.11846173, 0.03778195, 0.37296061, 0.97125767, 0.21566037],\n",
       "       [0.50016787, 0.80232746, 0.59691478, 0.68766896, 0.08535166],\n",
       "       [0.28346902, 0.52976659, 0.8848308 , 0.86240224, 0.54567265],\n",
       "       [0.22731454, 0.98668752, 0.5418105 , 0.76539719, 0.58209296],\n",
       "       [0.37707744, 0.56536673, 0.19731255, 0.90599076, 0.49699489],\n",
       "       [0.93367454, 0.34148738, 0.41123377, 0.31204469, 0.90953995],\n",
       "       [0.66067437, 0.60624296, 0.72449065, 0.12344633, 0.34063908],\n",
       "       [0.45123004, 0.20611134, 0.27562335, 0.1640197 , 0.1091121 ],\n",
       "       [0.99781535, 0.36242038, 0.6033091 , 0.08097054, 0.8980762 ],\n",
       "       [0.06056769, 0.42459858, 0.83268274, 0.25653423, 0.71024087],\n",
       "       [0.03519366, 0.73842122, 0.11202546, 0.44244973, 0.28151636],\n",
       "       [0.43714332, 0.27957788, 0.77355223, 0.57595547, 0.15980365],\n",
       "       [0.70011887, 0.45231016, 0.49408948, 0.20136551, 0.02148666],\n",
       "       [0.16264277, 0.68640152, 0.98611912, 0.8288612 , 0.66737205],\n",
       "       [0.3225201 , 0.89713481, 0.66126999, 0.49679796, 0.37094681],\n",
       "       [0.75036019, 0.18713574, 0.24435273, 0.0282905 , 0.98099074],\n",
       "       [0.64470041, 0.07914088, 0.9332124 , 0.61851974, 0.43177281],\n",
       "       [0.59350876, 0.12593129, 0.06995994, 0.51882444, 0.81886215]])"
      ]
     },
     "execution_count": 16,
     "metadata": {},
     "output_type": "execute_result"
    }
   ],
   "source": [
    "from pyDOE import *\n",
    "\n",
    "lhs(5, 20)"
   ]
  }
 ],
 "metadata": {
  "kernelspec": {
   "display_name": "Python 3 (ipykernel)",
   "language": "python",
   "name": "python3"
  },
  "language_info": {
   "codemirror_mode": {
    "name": "ipython",
    "version": 3
   },
   "file_extension": ".py",
   "mimetype": "text/x-python",
   "name": "python",
   "nbconvert_exporter": "python",
   "pygments_lexer": "ipython3",
   "version": "3.8.12"
  },
  "toc": {
   "base_numbering": 1,
   "nav_menu": {},
   "number_sections": true,
   "sideBar": true,
   "skip_h1_title": false,
   "title_cell": "Table of Contents",
   "title_sidebar": "Contents",
   "toc_cell": false,
   "toc_position": {},
   "toc_section_display": true,
   "toc_window_display": false
  }
 },
 "nbformat": 4,
 "nbformat_minor": 5
}
