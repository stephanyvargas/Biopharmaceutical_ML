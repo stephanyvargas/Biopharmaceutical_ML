{
 "cells": [
  {
   "cell_type": "markdown",
   "id": "54acbef5",
   "metadata": {},
   "source": [
    "# Create the design space to take data\n",
    "\n",
    "The paper uses a Latin hypercube to do a space filling design with conservative boundaries for 20 experiments."
   ]
  },
  {
   "cell_type": "code",
   "execution_count": 4,
   "id": "5f006322",
   "metadata": {},
   "outputs": [],
   "source": [
    "#Define Boundaries for each feature\n",
    "\n",
    "##Continuous features should be distributed between [0, upper_bound]\n",
    "NaCl_boundaries = [0,140]\n",
    "LArginine_boundaries = [0,150]\n",
    "LLysine_boundaries = [0,150]\n",
    "LProline_boundaries = [0,150]\n",
    "\n",
    "#Discrete features are [0, upper_bound]\n",
    "pH_boundaries = [5,5.5,6,6.5]\n",
    "Trehalose_boundaries = [0,8]\n",
    "Mannitol_boundaries = [0,4]\n",
    "Tween20_boundaries = [0,0.01]"
   ]
  },
  {
   "cell_type": "code",
   "execution_count": 23,
   "id": "b4b15672",
   "metadata": {},
   "outputs": [],
   "source": [
    "#Generate data for continuous features\n",
    "\n",
    "from numpy.random import uniform\n",
    "\n",
    "NaCl_vector = uniform(NaCl_boundaries[0], NaCl_boundaries[1], 10)\n",
    "LArginine_vector = uniform(LArginine_boundaries[0], LArginine_boundaries[1], 10)\n",
    "LLysine_vector = uniform(LLysine_boundaries[0], LLysine_boundaries[1], 10)\n",
    "LProline_vector = uniform(LProline_boundaries[0], LProline_boundaries[1], 10)"
   ]
  },
  {
   "cell_type": "code",
   "execution_count": 24,
   "id": "1580aa81",
   "metadata": {},
   "outputs": [
    {
     "data": {
      "text/plain": [
       "{'NaCl': array([ 46.34923381, 119.75826496,  88.82490897, 106.35126251,\n",
       "         53.35396234, 130.30085835,  98.56182141,  90.78022769,\n",
       "         48.55229403,  14.15457452]),\n",
       " 'L-Arginine': array([134.51426878, 105.08662769,  99.17278548, 128.24559857,\n",
       "        130.53003787,  48.04938712, 148.73379452, 106.6514834 ,\n",
       "        118.46397788,  31.17709225]),\n",
       " 'L-Lysine': array([ 37.2181626 ,  53.46338128,  33.77386778,  99.97664244,\n",
       "        122.91265539,  37.05759249, 143.65840528,   9.97638422,\n",
       "         41.50778613, 125.52797934]),\n",
       " 'L-Proline': array([ 87.13548444,  64.17542572,  52.54418662,  35.17550124,\n",
       "        112.72626702,  62.62502666, 129.50521166, 110.86029673,\n",
       "         95.3680621 , 113.20293423]),\n",
       " 'PH': [5, 5.5, 6, 6.5],\n",
       " 'Trehalose': [0, 8],\n",
       " 'Mannitol': [0, 4],\n",
       " 'Tween20': [0, 0.01]}"
      ]
     },
     "execution_count": 24,
     "metadata": {},
     "output_type": "execute_result"
    }
   ],
   "source": [
    "#Construct the design space using GaussianProcesses\n",
    "\n",
    "from sklearn.gaussian_process import GaussianProcessRegressor\n",
    "from sklearn.model_selection import RandomizedSearchCV\n",
    "from sklearn.gaussian_process.kernels import Matern\n",
    "from scipy import stats\n",
    "\n",
    "# Instanciate model with matern Kernel\n",
    "model = GaussianProcessRegressor(kernel=Matern(length_scale=1.0, length_scale_bounds=(1e-05, 100000.0), nu=1.5),\n",
    "                                 random_state=0)\n",
    "\n",
    "# Hyperparameter Grid\n",
    "grid = {'NaCl': NaCl_vector, \n",
    "        'L-Arginine' : LArginine_vector,\n",
    "        'L-Lysine' : LLysine_vector, \n",
    "        'L-Proline' : LProline_vector, \n",
    "        'PH' : pH_boundaries, \n",
    "        'Trehalose' : Trehalose_boundaries, \n",
    "        'Mannitol': Mannitol_boundaries, \n",
    "        'Tween20' : Tween20_boundaries }\n",
    "\n",
    "grid"
   ]
  },
  {
   "cell_type": "code",
   "execution_count": 25,
   "id": "184311e7",
   "metadata": {},
   "outputs": [
    {
     "data": {
      "text/plain": [
       "RandomizedSearchCV(cv=1,\n",
       "                   estimator=GaussianProcessRegressor(kernel=Matern(length_scale=1, nu=1.5),\n",
       "                                                      random_state=0),\n",
       "                   n_iter=20, n_jobs=-1,\n",
       "                   param_distributions={'L-Arginine': array([134.51426878, 105.08662769,  99.17278548, 128.24559857,\n",
       "       130.53003787,  48.04938712, 148.73379452, 106.6514834 ,\n",
       "       118.46397788,  31.17709225]),\n",
       "                                        'L-Lysine': array([ 37.2181626 ,  53.46338128,  33.77386...\n",
       "                                        'L-Proline': array([ 87.13548444,  64.17542572,  52.54418662,  35.17550124,\n",
       "       112.72626702,  62.62502666, 129.50521166, 110.86029673,\n",
       "        95.3680621 , 113.20293423]),\n",
       "                                        'Mannitol': [0, 4],\n",
       "                                        'NaCl': array([ 46.34923381, 119.75826496,  88.82490897, 106.35126251,\n",
       "        53.35396234, 130.30085835,  98.56182141,  90.78022769,\n",
       "        48.55229403,  14.15457452]),\n",
       "                                        'PH': [5, 5.5, 6, 6.5],\n",
       "                                        'Trehalose': [0, 8],\n",
       "                                        'Tween20': [0, 0.01]})"
      ]
     },
     "execution_count": 25,
     "metadata": {},
     "output_type": "execute_result"
    }
   ],
   "source": [
    "# Instanciate Grid Search\n",
    "search = RandomizedSearchCV(model, grid, \n",
    "                            n_iter=20,  # number of draws\n",
    "                            #cv=1,\n",
    "                            #scoring='r2',\n",
    "                            #n_jobs=-1\n",
    "                           )\n",
    "search"
   ]
  },
  {
   "cell_type": "code",
   "execution_count": 43,
   "id": "e16da2ad",
   "metadata": {},
   "outputs": [
    {
     "data": {
      "text/plain": [
       "Index(['Round', 'Exp No.', 'pH', 'NaCl (mM)', 'Trehalose (w/v %)',\n",
       "       'Mannitol (w/v %)', 'Tween 20 (v/v%)', 'Tm', 'NP', 'NP_std'],\n",
       "      dtype='object')"
      ]
     },
     "execution_count": 43,
     "metadata": {},
     "output_type": "execute_result"
    }
   ],
   "source": [
    "import pandas as pd\n",
    "\n",
    "data = pd.read_excel('mp1c00469_si_002.xlsx')\n",
    "data.keys()#"
   ]
  },
  {
   "cell_type": "code",
   "execution_count": 44,
   "id": "d936cec6",
   "metadata": {},
   "outputs": [
    {
     "data": {
      "text/plain": [
       "pH                    5.000000\n",
       "NaCl (mM)            15.000000\n",
       "Trehalose (w/v %)     7.000000\n",
       "Mannitol (w/v %)      0.000000\n",
       "Tween 20 (v/v%)       0.010000\n",
       "Tm                   59.347822\n",
       "Name: 0, dtype: float64"
      ]
     },
     "execution_count": 44,
     "metadata": {},
     "output_type": "execute_result"
    }
   ],
   "source": [
    "ref_data = data[['pH', 'NaCl (mM)', 'Trehalose (w/v %)', 'Mannitol (w/v %)', 'Tween 20 (v/v%)', 'Tm']].iloc[0]\n",
    "ref_data"
   ]
  },
  {
   "cell_type": "code",
   "execution_count": null,
   "id": "ec5abdac",
   "metadata": {},
   "outputs": [],
   "source": []
  },
  {
   "cell_type": "code",
   "execution_count": null,
   "id": "7bc6b088",
   "metadata": {},
   "outputs": [],
   "source": []
  }
 ],
 "metadata": {
  "kernelspec": {
   "display_name": "Python 3 (ipykernel)",
   "language": "python",
   "name": "python3"
  },
  "language_info": {
   "codemirror_mode": {
    "name": "ipython",
    "version": 3
   },
   "file_extension": ".py",
   "mimetype": "text/x-python",
   "name": "python",
   "nbconvert_exporter": "python",
   "pygments_lexer": "ipython3",
   "version": "3.8.12"
  },
  "toc": {
   "base_numbering": 1,
   "nav_menu": {},
   "number_sections": true,
   "sideBar": true,
   "skip_h1_title": false,
   "title_cell": "Table of Contents",
   "title_sidebar": "Contents",
   "toc_cell": false,
   "toc_position": {},
   "toc_section_display": true,
   "toc_window_display": false
  }
 },
 "nbformat": 4,
 "nbformat_minor": 5
}
