{
 "cells": [
  {
   "cell_type": "markdown",
   "id": "54acbef5",
   "metadata": {},
   "source": [
    "# Create the design space to take data\n",
    "\n",
    "The paper uses a Latin hypercube to do a space filling design with conservative boundaries for 20 experiments."
   ]
  },
  {
   "cell_type": "code",
   "execution_count": 2,
   "id": "5f006322",
   "metadata": {},
   "outputs": [],
   "source": [
    "#Define Boundaries for each feature\n",
    "\n",
    "##Continuous features should be distributed between [0, upper_bound]\n",
    "NaCl_boundaries = [0,140]\n",
    "LArginine_boundaries = [0,150]\n",
    "LLysine_boundaries = [0,150]\n",
    "LProline_boundaries = [0,150]\n",
    "\n",
    "#Discrete features are [0, upper_bound]\n",
    "pH_boundaries = [5,5.5,6,6.5]\n",
    "Trehalose_boundaries = [0,8]\n",
    "Mannitol_boundaries = [0,4]\n",
    "Tween20_boundaries = [0,0.01]"
   ]
  },
  {
   "cell_type": "markdown",
   "id": "2ec8e3b9",
   "metadata": {},
   "source": [
    "## Initial Design Space"
   ]
  },
  {
   "cell_type": "markdown",
   "id": "a04b31dc",
   "metadata": {},
   "source": [
    "### Construct a Latin hypercube"
   ]
  },
  {
   "cell_type": "code",
   "execution_count": 34,
   "id": "51e48dc5",
   "metadata": {},
   "outputs": [
    {
     "data": {
      "text/plain": [
       "array([[ 38.5 ,  41.25,  18.75, 101.25],\n",
       "       [101.5 ,  93.75, 108.75, 146.25],\n",
       "       [ 87.5 , 146.25,   3.75,  56.25],\n",
       "       [ 31.5 ,  26.25,  41.25,  26.25],\n",
       "       [ 52.5 ,  86.25, 146.25,  78.75],\n",
       "       [115.5 ,  63.75,  11.25,  63.75],\n",
       "       [ 59.5 , 101.25,  56.25,  86.25],\n",
       "       [129.5 , 138.75,  63.75,  18.75],\n",
       "       [ 80.5 ,  56.25,  86.25,   3.75],\n",
       "       [ 94.5 , 108.75, 131.25,  11.25],\n",
       "       [ 10.5 ,  78.75, 116.25, 138.75],\n",
       "       [ 45.5 ,  18.75, 101.25, 108.75],\n",
       "       [ 73.5 ,  33.75, 123.75,  33.75],\n",
       "       [ 66.5 ,  11.25,  33.75,  41.25],\n",
       "       [108.5 , 116.25,  48.75, 131.25],\n",
       "       [122.5 ,  71.25,  78.75,  71.25],\n",
       "       [ 24.5 ,  48.75,  26.25, 123.75],\n",
       "       [  3.5 , 131.25, 138.75, 116.25],\n",
       "       [ 17.5 ,   3.75,  93.75,  48.75],\n",
       "       [136.5 , 123.75,  71.25,  93.75]])"
      ]
     },
     "execution_count": 34,
     "metadata": {},
     "output_type": "execute_result"
    }
   ],
   "source": [
    "#using SMT: Surrogate Modeling Toolbox\n",
    "from smt.sampling_methods import LHS\n",
    "\n",
    "##Generate the continuous variables data points\n",
    "continuous_variables_boundaries = np.array([NaCl_boundaries, \n",
    "                                            LArginine_boundaries, \n",
    "                                            LLysine_boundaries, \n",
    "                                            LProline_boundaries])\n",
    "sampling = LHS(xlimits=continuous_variables_boundaries)\n",
    "\n",
    "num = 20    #initial 20 experiments\n",
    "continuous_variables_ = sampling(num)\n",
    "continuous_variables_"
   ]
  },
  {
   "cell_type": "code",
   "execution_count": 35,
   "id": "3d8ff6b0",
   "metadata": {},
   "outputs": [
    {
     "data": {
      "text/plain": [
       "array([[6.  , 0.  , 0.01, 8.  ],\n",
       "       [6.  , 0.  , 0.01, 8.  ],\n",
       "       [5.5 , 4.  , 0.  , 8.  ],\n",
       "       [6.5 , 0.  , 0.  , 0.  ],\n",
       "       [5.  , 0.  , 0.  , 8.  ],\n",
       "       [6.  , 0.  , 0.01, 8.  ],\n",
       "       [6.  , 0.  , 0.  , 8.  ],\n",
       "       [6.5 , 0.  , 0.  , 0.  ],\n",
       "       [6.5 , 4.  , 0.  , 0.  ],\n",
       "       [5.5 , 0.  , 0.  , 0.  ],\n",
       "       [5.5 , 0.  , 0.01, 8.  ],\n",
       "       [5.5 , 4.  , 0.  , 0.  ],\n",
       "       [5.5 , 4.  , 0.  , 0.  ],\n",
       "       [5.5 , 0.  , 0.01, 0.  ],\n",
       "       [5.5 , 0.  , 0.01, 8.  ],\n",
       "       [5.  , 4.  , 0.  , 8.  ],\n",
       "       [6.  , 0.  , 0.  , 0.  ],\n",
       "       [5.  , 0.  , 0.  , 8.  ],\n",
       "       [6.  , 4.  , 0.  , 0.  ],\n",
       "       [5.  , 4.  , 0.01, 8.  ]])"
      ]
     },
     "execution_count": 35,
     "metadata": {},
     "output_type": "execute_result"
    }
   ],
   "source": [
    "import random\n",
    "\n",
    "##Generate the discrete variables data points\n",
    "discrete_variables_ = np.array([random.choices(pH_boundaries, k=20), \n",
    "                                random.choices(Mannitol_boundaries, k=20),\n",
    "                                random.choices(Tween20_boundaries, k=20),\n",
    "                                random.choices(Trehalose_boundaries, k=20)]).T\n",
    "\n",
    "discrete_variables_"
   ]
  },
  {
   "cell_type": "code",
   "execution_count": 38,
   "id": "2df19b6c",
   "metadata": {},
   "outputs": [
    {
     "ename": "ValueError",
     "evalue": "Shape of passed values is (20, 8), indices imply (20, 4)",
     "output_type": "error",
     "traceback": [
      "\u001b[0;31m---------------------------------------------------------------------------\u001b[0m",
      "\u001b[0;31mValueError\u001b[0m                                Traceback (most recent call last)",
      "\u001b[0;32m/tmp/ipykernel_5551/891720236.py\u001b[0m in \u001b[0;36m<module>\u001b[0;34m\u001b[0m\n\u001b[1;32m      6\u001b[0m \u001b[0;31m#create a pandas dataframe\u001b[0m\u001b[0;34m\u001b[0m\u001b[0;34m\u001b[0m\u001b[0;34m\u001b[0m\u001b[0m\n\u001b[1;32m      7\u001b[0m \u001b[0mcolumn_values\u001b[0m \u001b[0;34m=\u001b[0m \u001b[0;34m[\u001b[0m\u001b[0;34m'NaCl'\u001b[0m\u001b[0;34m,\u001b[0m \u001b[0;34m'LArginine'\u001b[0m\u001b[0;34m,\u001b[0m \u001b[0;34m'LLysine'\u001b[0m\u001b[0;34m,\u001b[0m \u001b[0;34m'LProline_boundaries'\u001b[0m\u001b[0;34m]\u001b[0m\u001b[0;34m\u001b[0m\u001b[0;34m\u001b[0m\u001b[0m\n\u001b[0;32m----> 8\u001b[0;31m df_initial = pd.DataFrame(data = initial_data_points,\n\u001b[0m\u001b[1;32m      9\u001b[0m                           columns = column_values)\n",
      "\u001b[0;32m~/.pyenv/versions/3.8.12/envs/lewagon/lib/python3.8/site-packages/pandas/core/frame.py\u001b[0m in \u001b[0;36m__init__\u001b[0;34m(self, data, index, columns, dtype, copy)\u001b[0m\n\u001b[1;32m    670\u001b[0m                 )\n\u001b[1;32m    671\u001b[0m             \u001b[0;32melse\u001b[0m\u001b[0;34m:\u001b[0m\u001b[0;34m\u001b[0m\u001b[0;34m\u001b[0m\u001b[0m\n\u001b[0;32m--> 672\u001b[0;31m                 mgr = ndarray_to_mgr(\n\u001b[0m\u001b[1;32m    673\u001b[0m                     \u001b[0mdata\u001b[0m\u001b[0;34m,\u001b[0m\u001b[0;34m\u001b[0m\u001b[0;34m\u001b[0m\u001b[0m\n\u001b[1;32m    674\u001b[0m                     \u001b[0mindex\u001b[0m\u001b[0;34m,\u001b[0m\u001b[0;34m\u001b[0m\u001b[0;34m\u001b[0m\u001b[0m\n",
      "\u001b[0;32m~/.pyenv/versions/3.8.12/envs/lewagon/lib/python3.8/site-packages/pandas/core/internals/construction.py\u001b[0m in \u001b[0;36mndarray_to_mgr\u001b[0;34m(values, index, columns, dtype, copy, typ)\u001b[0m\n\u001b[1;32m    322\u001b[0m     )\n\u001b[1;32m    323\u001b[0m \u001b[0;34m\u001b[0m\u001b[0m\n\u001b[0;32m--> 324\u001b[0;31m     \u001b[0m_check_values_indices_shape_match\u001b[0m\u001b[0;34m(\u001b[0m\u001b[0mvalues\u001b[0m\u001b[0;34m,\u001b[0m \u001b[0mindex\u001b[0m\u001b[0;34m,\u001b[0m \u001b[0mcolumns\u001b[0m\u001b[0;34m)\u001b[0m\u001b[0;34m\u001b[0m\u001b[0;34m\u001b[0m\u001b[0m\n\u001b[0m\u001b[1;32m    325\u001b[0m \u001b[0;34m\u001b[0m\u001b[0m\n\u001b[1;32m    326\u001b[0m     \u001b[0;32mif\u001b[0m \u001b[0mtyp\u001b[0m \u001b[0;34m==\u001b[0m \u001b[0;34m\"array\"\u001b[0m\u001b[0;34m:\u001b[0m\u001b[0;34m\u001b[0m\u001b[0;34m\u001b[0m\u001b[0m\n",
      "\u001b[0;32m~/.pyenv/versions/3.8.12/envs/lewagon/lib/python3.8/site-packages/pandas/core/internals/construction.py\u001b[0m in \u001b[0;36m_check_values_indices_shape_match\u001b[0;34m(values, index, columns)\u001b[0m\n\u001b[1;32m    391\u001b[0m         \u001b[0mpassed\u001b[0m \u001b[0;34m=\u001b[0m \u001b[0mvalues\u001b[0m\u001b[0;34m.\u001b[0m\u001b[0mshape\u001b[0m\u001b[0;34m\u001b[0m\u001b[0;34m\u001b[0m\u001b[0m\n\u001b[1;32m    392\u001b[0m         \u001b[0mimplied\u001b[0m \u001b[0;34m=\u001b[0m \u001b[0;34m(\u001b[0m\u001b[0mlen\u001b[0m\u001b[0;34m(\u001b[0m\u001b[0mindex\u001b[0m\u001b[0;34m)\u001b[0m\u001b[0;34m,\u001b[0m \u001b[0mlen\u001b[0m\u001b[0;34m(\u001b[0m\u001b[0mcolumns\u001b[0m\u001b[0;34m)\u001b[0m\u001b[0;34m)\u001b[0m\u001b[0;34m\u001b[0m\u001b[0;34m\u001b[0m\u001b[0m\n\u001b[0;32m--> 393\u001b[0;31m         \u001b[0;32mraise\u001b[0m \u001b[0mValueError\u001b[0m\u001b[0;34m(\u001b[0m\u001b[0;34mf\"Shape of passed values is {passed}, indices imply {implied}\"\u001b[0m\u001b[0;34m)\u001b[0m\u001b[0;34m\u001b[0m\u001b[0;34m\u001b[0m\u001b[0m\n\u001b[0m\u001b[1;32m    394\u001b[0m \u001b[0;34m\u001b[0m\u001b[0m\n\u001b[1;32m    395\u001b[0m \u001b[0;34m\u001b[0m\u001b[0m\n",
      "\u001b[0;31mValueError\u001b[0m: Shape of passed values is (20, 8), indices imply (20, 4)"
     ]
    }
   ],
   "source": [
    "import pandas as pd\n",
    "\n",
    "#merge both, continuous and discrete data points\n",
    "initial_data_points = np.concatenate((continuous_variables_, discrete_variables_), axis=1)\n",
    "\n",
    "#create a pandas dataframe\n",
    "column_values = ['NaCl', 'LArginine', 'LLysine', 'LProline_boundaries', 'pH', \n",
    "                 'Mannitol', '']\n",
    "df_initial = pd.DataFrame(data = initial_data_points,\n",
    "                          columns = column_values)"
   ]
  },
  {
   "cell_type": "code",
   "execution_count": null,
   "id": "c9d962e4",
   "metadata": {},
   "outputs": [],
   "source": []
  },
  {
   "cell_type": "code",
   "execution_count": null,
   "id": "e581ff59",
   "metadata": {},
   "outputs": [],
   "source": []
  }
 ],
 "metadata": {
  "kernelspec": {
   "display_name": "Python 3 (ipykernel)",
   "language": "python",
   "name": "python3"
  },
  "language_info": {
   "codemirror_mode": {
    "name": "ipython",
    "version": 3
   },
   "file_extension": ".py",
   "mimetype": "text/x-python",
   "name": "python",
   "nbconvert_exporter": "python",
   "pygments_lexer": "ipython3",
   "version": "3.8.12"
  },
  "toc": {
   "base_numbering": 1,
   "nav_menu": {},
   "number_sections": true,
   "sideBar": true,
   "skip_h1_title": false,
   "title_cell": "Table of Contents",
   "title_sidebar": "Contents",
   "toc_cell": false,
   "toc_position": {},
   "toc_section_display": true,
   "toc_window_display": false
  }
 },
 "nbformat": 4,
 "nbformat_minor": 5
}
